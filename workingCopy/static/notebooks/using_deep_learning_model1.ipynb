{
 "cells": [
  {
   "cell_type": "code",
   "execution_count": 3,
   "metadata": {},
   "outputs": [],
   "source": [
    "#Import innitial dependencies\n",
    "import warnings\n",
    "warnings.simplefilter('ignore')\n",
    "\n",
    "#%matplotlib inline\n",
    "import matplotlib.pyplot as plt\n",
    "import numpy as np\n",
    "import pandas as pd"
   ]
  },
  {
   "cell_type": "code",
   "execution_count": 4,
   "metadata": {},
   "outputs": [
    {
     "data": {
      "text/html": [
       "<div>\n",
       "<style scoped>\n",
       "    .dataframe tbody tr th:only-of-type {\n",
       "        vertical-align: middle;\n",
       "    }\n",
       "\n",
       "    .dataframe tbody tr th {\n",
       "        vertical-align: top;\n",
       "    }\n",
       "\n",
       "    .dataframe thead th {\n",
       "        text-align: right;\n",
       "    }\n",
       "</style>\n",
       "<table border=\"1\" class=\"dataframe\">\n",
       "  <thead>\n",
       "    <tr style=\"text-align: right;\">\n",
       "      <th></th>\n",
       "      <th>Servings/s</th>\n",
       "      <th>Calories/s</th>\n",
       "      <th>Fat/s</th>\n",
       "      <th>Sat_Fat/s</th>\n",
       "      <th>Trans_Fat/s</th>\n",
       "      <th>Mono_Fat/s</th>\n",
       "      <th>Poly_Fat/s</th>\n",
       "      <th>Carbs/s</th>\n",
       "      <th>Fiber/s</th>\n",
       "      <th>Sugars/s</th>\n",
       "      <th>...</th>\n",
       "      <th>B6/s</th>\n",
       "      <th>Folate_eq/s</th>\n",
       "      <th>Folate_food/s</th>\n",
       "      <th>B12/s</th>\n",
       "      <th>Vit_D/s</th>\n",
       "      <th>Vit_E/s</th>\n",
       "      <th>Vit_K/s</th>\n",
       "      <th>Water/s</th>\n",
       "      <th>Healthy</th>\n",
       "      <th>HealthyLabel</th>\n",
       "    </tr>\n",
       "  </thead>\n",
       "  <tbody>\n",
       "    <tr>\n",
       "      <td>1844</td>\n",
       "      <td>1.0</td>\n",
       "      <td>885.555968</td>\n",
       "      <td>53.018457</td>\n",
       "      <td>21.638624</td>\n",
       "      <td>0.465476</td>\n",
       "      <td>22.651813</td>\n",
       "      <td>3.703198</td>\n",
       "      <td>41.120828</td>\n",
       "      <td>3.092770</td>\n",
       "      <td>5.914407</td>\n",
       "      <td>...</td>\n",
       "      <td>1.090329</td>\n",
       "      <td>151.388358</td>\n",
       "      <td>73.868358</td>\n",
       "      <td>2.002937</td>\n",
       "      <td>8.520000</td>\n",
       "      <td>2.797755</td>\n",
       "      <td>43.488101</td>\n",
       "      <td>288.697325</td>\n",
       "      <td>0</td>\n",
       "      <td>unhealthy</td>\n",
       "    </tr>\n",
       "    <tr>\n",
       "      <td>1845</td>\n",
       "      <td>1.0</td>\n",
       "      <td>1199.745198</td>\n",
       "      <td>52.064223</td>\n",
       "      <td>21.695331</td>\n",
       "      <td>0.055055</td>\n",
       "      <td>20.987810</td>\n",
       "      <td>6.193580</td>\n",
       "      <td>132.531893</td>\n",
       "      <td>9.903497</td>\n",
       "      <td>10.157808</td>\n",
       "      <td>...</td>\n",
       "      <td>0.435342</td>\n",
       "      <td>698.420402</td>\n",
       "      <td>95.898856</td>\n",
       "      <td>0.855400</td>\n",
       "      <td>20.160000</td>\n",
       "      <td>3.487766</td>\n",
       "      <td>9.842727</td>\n",
       "      <td>299.033738</td>\n",
       "      <td>0</td>\n",
       "      <td>unhealthy</td>\n",
       "    </tr>\n",
       "    <tr>\n",
       "      <td>1846</td>\n",
       "      <td>1.0</td>\n",
       "      <td>575.813376</td>\n",
       "      <td>29.716701</td>\n",
       "      <td>17.255565</td>\n",
       "      <td>0.668482</td>\n",
       "      <td>7.652011</td>\n",
       "      <td>1.418145</td>\n",
       "      <td>48.349441</td>\n",
       "      <td>2.459127</td>\n",
       "      <td>2.626872</td>\n",
       "      <td>...</td>\n",
       "      <td>0.156702</td>\n",
       "      <td>34.096367</td>\n",
       "      <td>34.096367</td>\n",
       "      <td>0.675327</td>\n",
       "      <td>18.282771</td>\n",
       "      <td>0.563872</td>\n",
       "      <td>2.312221</td>\n",
       "      <td>120.323226</td>\n",
       "      <td>0</td>\n",
       "      <td>unhealthy</td>\n",
       "    </tr>\n",
       "    <tr>\n",
       "      <td>1847</td>\n",
       "      <td>1.0</td>\n",
       "      <td>223.868965</td>\n",
       "      <td>8.640837</td>\n",
       "      <td>3.993991</td>\n",
       "      <td>0.006804</td>\n",
       "      <td>2.284186</td>\n",
       "      <td>1.262668</td>\n",
       "      <td>26.627345</td>\n",
       "      <td>5.083299</td>\n",
       "      <td>11.188909</td>\n",
       "      <td>...</td>\n",
       "      <td>0.352999</td>\n",
       "      <td>63.463372</td>\n",
       "      <td>40.945372</td>\n",
       "      <td>0.227013</td>\n",
       "      <td>4.082331</td>\n",
       "      <td>3.523929</td>\n",
       "      <td>25.027532</td>\n",
       "      <td>204.756052</td>\n",
       "      <td>0</td>\n",
       "      <td>unhealthy</td>\n",
       "    </tr>\n",
       "    <tr>\n",
       "      <td>1848</td>\n",
       "      <td>1.0</td>\n",
       "      <td>453.053030</td>\n",
       "      <td>29.118689</td>\n",
       "      <td>15.106494</td>\n",
       "      <td>0.082530</td>\n",
       "      <td>8.686451</td>\n",
       "      <td>1.648327</td>\n",
       "      <td>34.804224</td>\n",
       "      <td>2.571149</td>\n",
       "      <td>5.466125</td>\n",
       "      <td>...</td>\n",
       "      <td>0.261409</td>\n",
       "      <td>40.777834</td>\n",
       "      <td>40.777834</td>\n",
       "      <td>0.306823</td>\n",
       "      <td>18.406219</td>\n",
       "      <td>0.925100</td>\n",
       "      <td>12.385577</td>\n",
       "      <td>137.497637</td>\n",
       "      <td>0</td>\n",
       "      <td>unhealthy</td>\n",
       "    </tr>\n",
       "  </tbody>\n",
       "</table>\n",
       "<p>5 rows × 34 columns</p>\n",
       "</div>"
      ],
      "text/plain": [
       "      Servings/s   Calories/s      Fat/s  Sat_Fat/s  Trans_Fat/s  Mono_Fat/s  \\\n",
       "1844         1.0   885.555968  53.018457  21.638624     0.465476   22.651813   \n",
       "1845         1.0  1199.745198  52.064223  21.695331     0.055055   20.987810   \n",
       "1846         1.0   575.813376  29.716701  17.255565     0.668482    7.652011   \n",
       "1847         1.0   223.868965   8.640837   3.993991     0.006804    2.284186   \n",
       "1848         1.0   453.053030  29.118689  15.106494     0.082530    8.686451   \n",
       "\n",
       "      Poly_Fat/s     Carbs/s   Fiber/s   Sugars/s  ...      B6/s  Folate_eq/s  \\\n",
       "1844    3.703198   41.120828  3.092770   5.914407  ...  1.090329   151.388358   \n",
       "1845    6.193580  132.531893  9.903497  10.157808  ...  0.435342   698.420402   \n",
       "1846    1.418145   48.349441  2.459127   2.626872  ...  0.156702    34.096367   \n",
       "1847    1.262668   26.627345  5.083299  11.188909  ...  0.352999    63.463372   \n",
       "1848    1.648327   34.804224  2.571149   5.466125  ...  0.261409    40.777834   \n",
       "\n",
       "      Folate_food/s     B12/s    Vit_D/s   Vit_E/s    Vit_K/s     Water/s  \\\n",
       "1844      73.868358  2.002937   8.520000  2.797755  43.488101  288.697325   \n",
       "1845      95.898856  0.855400  20.160000  3.487766   9.842727  299.033738   \n",
       "1846      34.096367  0.675327  18.282771  0.563872   2.312221  120.323226   \n",
       "1847      40.945372  0.227013   4.082331  3.523929  25.027532  204.756052   \n",
       "1848      40.777834  0.306823  18.406219  0.925100  12.385577  137.497637   \n",
       "\n",
       "      Healthy  HealthyLabel  \n",
       "1844        0     unhealthy  \n",
       "1845        0     unhealthy  \n",
       "1846        0     unhealthy  \n",
       "1847        0     unhealthy  \n",
       "1848        0     unhealthy  \n",
       "\n",
       "[5 rows x 34 columns]"
      ]
     },
     "execution_count": 4,
     "metadata": {},
     "output_type": "execute_result"
    }
   ],
   "source": [
    "# Read the csv file into a pandas DataFrame\n",
    "dataset = pd.read_csv('../data/ModelData_1.csv')\n",
    "dataset.head()\n",
    "dataset.tail()"
   ]
  },
  {
   "cell_type": "code",
   "execution_count": 51,
   "metadata": {},
   "outputs": [
    {
     "name": "stdout",
     "output_type": "stream",
     "text": [
      "(1849, 33) (1849,)\n"
     ]
    }
   ],
   "source": [
    "# Assign X (data) and y (target) - And review \n",
    "X = dataset.drop(\"HealthyLabel\", axis=1)\n",
    "y = dataset[\"HealthyLabel\"]\n",
    "print(X.shape, y.shape)"
   ]
  },
  {
   "cell_type": "code",
   "execution_count": 52,
   "metadata": {},
   "outputs": [],
   "source": [
    "# Split data into training and testing\n",
    "from sklearn.model_selection import train_test_split\n",
    "\n",
    "X_train, X_test, y_train, y_test = train_test_split(X, y, random_state=1, stratify=y)"
   ]
  },
  {
   "cell_type": "code",
   "execution_count": 53,
   "metadata": {},
   "outputs": [],
   "source": [
    "from sklearn.preprocessing import MinMaxScaler\n",
    "X_scaler = MinMaxScaler().fit(X_train)\n",
    "X_train_scaled = X_scaler.transform(X_train)\n",
    "X_test_scaled = X_scaler.transform(X_test)"
   ]
  },
  {
   "cell_type": "code",
   "execution_count": 54,
   "metadata": {},
   "outputs": [],
   "source": [
    "import tensorflow as tf\n",
    "from tensorflow.keras.models import Sequential\n",
    "from tensorflow.keras.utils import to_categorical\n",
    "from tensorflow.keras.layers import Dense\n",
    "from sklearn.preprocessing import LabelEncoder\n",
    "from tensorflow.keras.callbacks import EarlyStopping\n",
    "from tensorflow.keras import backend"
   ]
  },
  {
   "cell_type": "code",
   "execution_count": 55,
   "metadata": {},
   "outputs": [],
   "source": [
    "label_encoder = LabelEncoder()\n",
    "label_encoder.fit(y_train)\n",
    "encoded_y_train = label_encoder.transform(y_train)\n",
    "encoded_y_test = label_encoder.transform(y_test)\n",
    "y_train_categorical = to_categorical(encoded_y_train)\n",
    "y_test_categorical = to_categorical(encoded_y_test)"
   ]
  },
  {
   "cell_type": "code",
   "execution_count": 56,
   "metadata": {},
   "outputs": [
    {
     "data": {
      "text/plain": [
       "array([[1., 0.],\n",
       "       [0., 1.],\n",
       "       [0., 1.],\n",
       "       ...,\n",
       "       [0., 1.],\n",
       "       [0., 1.],\n",
       "       [0., 1.]], dtype=float32)"
      ]
     },
     "execution_count": 56,
     "metadata": {},
     "output_type": "execute_result"
    }
   ],
   "source": [
    "y_train_categorical"
   ]
  },
  {
   "cell_type": "code",
   "execution_count": 57,
   "metadata": {},
   "outputs": [
    {
     "name": "stdout",
     "output_type": "stream",
     "text": [
      "Loaded modelD1 from disk\n"
     ]
    }
   ],
   "source": [
    "from tensorflow.keras.models import model_from_json\n",
    "# load json and create model\n",
    "json_file = open('modelD1.json', 'r')\n",
    "loaded_model_json = json_file.read()\n",
    "json_file.close()\n",
    "loaded_model = model_from_json(loaded_model_json)\n",
    "# load weights into new model\n",
    "loaded_model.load_weights(\"modelD1.h5\")\n",
    "print(\"Loaded modelD1 from disk\")"
   ]
  },
  {
   "cell_type": "code",
   "execution_count": 58,
   "metadata": {},
   "outputs": [],
   "source": [
    "loaded_model.compile(optimizer='adam',\n",
    "              loss='categorical_crossentropy',\n",
    "              metrics=['accuracy'])"
   ]
  },
  {
   "cell_type": "code",
   "execution_count": 1,
   "metadata": {},
   "outputs": [],
   "source": [
    "#model_loss, model_accuracy = loaded_model.evaluate(\n",
    " #   X_test_scaled, y_test_categorical, verbose=2)\n",
    "#print(\n",
    " #   f\"Normal Neural Network - Loss: {model_loss}, Accuracy: {model_accuracy}\")"
   ]
  },
  {
   "cell_type": "code",
   "execution_count": 62,
   "metadata": {},
   "outputs": [],
   "source": [
    "encoded_predictions = loaded_model.predict_classes(X_test_scaled[:5])\n",
    "prediction_labels = label_encoder.inverse_transform(encoded_predictions)"
   ]
  },
  {
   "cell_type": "code",
   "execution_count": 63,
   "metadata": {},
   "outputs": [
    {
     "name": "stdout",
     "output_type": "stream",
     "text": [
      "Predicted classes: ['unhealthy' 'healthy' 'healthy' 'unhealthy' 'healthy']\n",
      "Actual Labels: ['unhealthy', 'healthy', 'healthy', 'unhealthy', 'healthy']\n"
     ]
    }
   ],
   "source": [
    "print(f\"Predicted classes: {prediction_labels}\")\n",
    "print(f\"Actual Labels: {list(y_test[:5])}\")"
   ]
  },
  {
   "cell_type": "code",
   "execution_count": null,
   "metadata": {},
   "outputs": [],
   "source": []
  }
 ],
 "metadata": {
  "kernelspec": {
   "display_name": "Python [conda env:PythonWebMongo] *",
   "language": "python",
   "name": "conda-env-PythonWebMongo-py"
  },
  "language_info": {
   "codemirror_mode": {
    "name": "ipython",
    "version": 3
   },
   "file_extension": ".py",
   "mimetype": "text/x-python",
   "name": "python",
   "nbconvert_exporter": "python",
   "pygments_lexer": "ipython3",
   "version": "3.6.9"
  }
 },
 "nbformat": 4,
 "nbformat_minor": 2
}
